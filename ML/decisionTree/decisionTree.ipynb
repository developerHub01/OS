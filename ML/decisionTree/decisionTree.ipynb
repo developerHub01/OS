{
 "cells": [
  {
   "cell_type": "code",
   "execution_count": 19,
   "metadata": {},
   "outputs": [],
   "source": [
    "# import libraries\n",
    "\n",
    "import pandas as pd\n",
    "from sklearn.model_selection import train_test_split\n",
    "from sklearn.tree import DecisionTreeClassifier\n",
    "from sklearn import metrics\n",
    "import numpy as np\n",
    "import matplotlib.pyplot as plt"
   ]
  },
  {
   "cell_type": "code",
   "execution_count": 20,
   "metadata": {},
   "outputs": [],
   "source": [
    "# load dataset\n",
    "\n",
    "dataset = pd.read_csv(\"data.csv\")"
   ]
  },
  {
   "cell_type": "code",
   "execution_count": 21,
   "metadata": {},
   "outputs": [
    {
     "name": "stdout",
     "output_type": "stream",
     "text": [
      "      age  income  previous_purchase  will_purchase\n",
      "0      39   74191                  0              1\n",
      "1      24   75804                  0              1\n",
      "2      33   28310                  1              0\n",
      "3      44   57470                  0              0\n",
      "4      41   59416                  0              1\n",
      "...   ...     ...                ...            ...\n",
      "9995   38   26491                  0              0\n",
      "9996   39   61452                  0              1\n",
      "9997   29   72491                  0              1\n",
      "9998   24   53540                  0              1\n",
      "9999   51   52781                  0              1\n",
      "\n",
      "[10000 rows x 4 columns]\n"
     ]
    }
   ],
   "source": [
    "dataset['previous_purchase'] = list(map(lambda x: 1 if x == \"Yes\" else 0, dataset['previous_purchase']))\n",
    "dataset['will_purchase'] = list(map(lambda x: 1 if x == \"Yes\" else 0, dataset['will_purchase']))\n",
    "print(dataset)"
   ]
  },
  {
   "cell_type": "code",
   "execution_count": 22,
   "metadata": {},
   "outputs": [
    {
     "name": "stdout",
     "output_type": "stream",
     "text": [
      "      age  income  previous_purchase\n",
      "0      39   74191                  0\n",
      "1      24   75804                  0\n",
      "2      33   28310                  1\n",
      "3      44   57470                  0\n",
      "4      41   59416                  0\n",
      "...   ...     ...                ...\n",
      "9995   38   26491                  0\n",
      "9996   39   61452                  0\n",
      "9997   29   72491                  0\n",
      "9998   24   53540                  0\n",
      "9999   51   52781                  0\n",
      "\n",
      "[10000 rows x 3 columns]\n",
      "0       1\n",
      "1       1\n",
      "2       0\n",
      "3       0\n",
      "4       1\n",
      "       ..\n",
      "9995    0\n",
      "9996    1\n",
      "9997    1\n",
      "9998    1\n",
      "9999    1\n",
      "Name: will_purchase, Length: 10000, dtype: int64\n"
     ]
    }
   ],
   "source": [
    "# Features and target variable\n",
    "X = dataset[[\"age\", \"income\", \"previous_purchase\"]]\n",
    "y = dataset['will_purchase']\n",
    "print(X)\n",
    "print(y)"
   ]
  },
  {
   "cell_type": "code",
   "execution_count": 23,
   "metadata": {},
   "outputs": [],
   "source": [
    "# split into train and test dataset\n",
    "X_train, X_test, y_train, y_test = train_test_split(X, y, test_size=0.25, random_state=42)"
   ]
  },
  {
   "cell_type": "code",
   "execution_count": 24,
   "metadata": {},
   "outputs": [],
   "source": [
    "# create decision tree\n",
    "model = DecisionTreeClassifier()"
   ]
  },
  {
   "cell_type": "code",
   "execution_count": 25,
   "metadata": {},
   "outputs": [
    {
     "data": {
      "text/plain": [
       "DecisionTreeClassifier()"
      ]
     },
     "execution_count": 25,
     "metadata": {},
     "output_type": "execute_result"
    }
   ],
   "source": [
    "# train the model for decision tree\n",
    "model.fit(X_train, y_train)"
   ]
  },
  {
   "cell_type": "code",
   "execution_count": 26,
   "metadata": {},
   "outputs": [],
   "source": [
    "# input string into a list of strings and convert to integers\n",
    "# inputsVal = list(map(int, input(\"Enter age, income, previous purchase (1 for yes, 0 for no): \").split(',')))\n",
    "\n",
    "# Predict the output using the trained model\n",
    "y_pred = model.predict(X_test)\n",
    "# y_pred = model.predict([inputsVal])\n",
    "# print(y_pred)"
   ]
  },
  {
   "cell_type": "code",
   "execution_count": 27,
   "metadata": {},
   "outputs": [
    {
     "name": "stdout",
     "output_type": "stream",
     "text": [
      "0.5016\n"
     ]
    }
   ],
   "source": [
    "# show the accuracy\n",
    "accuracy = metrics.accuracy_score(y_true=y_test, y_pred=y_pred)\n",
    "\n",
    "print(accuracy)"
   ]
  },
  {
   "cell_type": "code",
   "execution_count": null,
   "metadata": {},
   "outputs": [],
   "source": []
  },
  {
   "cell_type": "code",
   "execution_count": null,
   "metadata": {},
   "outputs": [],
   "source": []
  }
 ],
 "metadata": {
  "kernelspec": {
   "display_name": "base",
   "language": "python",
   "name": "python3"
  },
  "language_info": {
   "codemirror_mode": {
    "name": "ipython",
    "version": 3
   },
   "file_extension": ".py",
   "mimetype": "text/x-python",
   "name": "python",
   "nbconvert_exporter": "python",
   "pygments_lexer": "ipython3",
   "version": "3.8.5"
  }
 },
 "nbformat": 4,
 "nbformat_minor": 2
}
